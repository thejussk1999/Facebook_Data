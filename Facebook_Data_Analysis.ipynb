{
  "nbformat": 4,
  "nbformat_minor": 0,
  "metadata": {
    "colab": {
      "name": "Facebook Data Analysis.ipynb",
      "provenance": []
    },
    "kernelspec": {
      "name": "python3",
      "display_name": "Python 3"
    }
  },
  "cells": [
    {
      "cell_type": "markdown",
      "metadata": {
        "id": "1FYmzxeuOWkN",
        "colab_type": "text"
      },
      "source": [
        "\n",
        "Using the facebook_scraper library the get_posts function is imported. \n",
        "The git clone is used to import a user defined library created.\n",
        "\n",
        "\n"
      ]
    },
    {
      "cell_type": "code",
      "metadata": {
        "id": "LjfyJiuSs9Y2",
        "colab_type": "code",
        "colab": {
          "base_uri": "https://localhost:8080/",
          "height": 428
        },
        "outputId": "95bdab78-0f9e-423d-800d-3837fdf441bc"
      },
      "source": [
        "!pip install facebook_scraper\n",
        "from facebook_scraper import get_posts\n",
        "!git clone 'https://github.com/knadh/ml2en.git'"
      ],
      "execution_count": 124,
      "outputs": [
        {
          "output_type": "stream",
          "text": [
            "Requirement already satisfied: facebook_scraper in /usr/local/lib/python3.6/dist-packages (0.2.10)\n",
            "Requirement already satisfied: html2text<2021.0.0,>=2020.1.16 in /usr/local/lib/python3.6/dist-packages (from facebook_scraper) (2020.1.16)\n",
            "Requirement already satisfied: requests-html<0.11.0,>=0.10.0 in /usr/local/lib/python3.6/dist-packages (from facebook_scraper) (0.10.0)\n",
            "Requirement already satisfied: requests in /usr/local/lib/python3.6/dist-packages (from requests-html<0.11.0,>=0.10.0->facebook_scraper) (2.23.0)\n",
            "Requirement already satisfied: bs4 in /usr/local/lib/python3.6/dist-packages (from requests-html<0.11.0,>=0.10.0->facebook_scraper) (0.0.1)\n",
            "Requirement already satisfied: w3lib in /usr/local/lib/python3.6/dist-packages (from requests-html<0.11.0,>=0.10.0->facebook_scraper) (1.22.0)\n",
            "Requirement already satisfied: pyppeteer>=0.0.14 in /usr/local/lib/python3.6/dist-packages (from requests-html<0.11.0,>=0.10.0->facebook_scraper) (0.2.2)\n",
            "Requirement already satisfied: fake-useragent in /usr/local/lib/python3.6/dist-packages (from requests-html<0.11.0,>=0.10.0->facebook_scraper) (0.1.11)\n",
            "Requirement already satisfied: parse in /usr/local/lib/python3.6/dist-packages (from requests-html<0.11.0,>=0.10.0->facebook_scraper) (1.17.0)\n",
            "Requirement already satisfied: pyquery in /usr/local/lib/python3.6/dist-packages (from requests-html<0.11.0,>=0.10.0->facebook_scraper) (1.4.1)\n",
            "Requirement already satisfied: idna<3,>=2.5 in /usr/local/lib/python3.6/dist-packages (from requests->requests-html<0.11.0,>=0.10.0->facebook_scraper) (2.10)\n",
            "Requirement already satisfied: urllib3!=1.25.0,!=1.25.1,<1.26,>=1.21.1 in /usr/local/lib/python3.6/dist-packages (from requests->requests-html<0.11.0,>=0.10.0->facebook_scraper) (1.25.10)\n",
            "Requirement already satisfied: certifi>=2017.4.17 in /usr/local/lib/python3.6/dist-packages (from requests->requests-html<0.11.0,>=0.10.0->facebook_scraper) (2020.6.20)\n",
            "Requirement already satisfied: chardet<4,>=3.0.2 in /usr/local/lib/python3.6/dist-packages (from requests->requests-html<0.11.0,>=0.10.0->facebook_scraper) (3.0.4)\n",
            "Requirement already satisfied: beautifulsoup4 in /usr/local/lib/python3.6/dist-packages (from bs4->requests-html<0.11.0,>=0.10.0->facebook_scraper) (4.6.3)\n",
            "Requirement already satisfied: six>=1.4.1 in /usr/local/lib/python3.6/dist-packages (from w3lib->requests-html<0.11.0,>=0.10.0->facebook_scraper) (1.15.0)\n",
            "Requirement already satisfied: websockets<9.0,>=8.1 in /usr/local/lib/python3.6/dist-packages (from pyppeteer>=0.0.14->requests-html<0.11.0,>=0.10.0->facebook_scraper) (8.1)\n",
            "Requirement already satisfied: appdirs<2.0.0,>=1.4.3 in /usr/local/lib/python3.6/dist-packages (from pyppeteer>=0.0.14->requests-html<0.11.0,>=0.10.0->facebook_scraper) (1.4.4)\n",
            "Requirement already satisfied: tqdm<5.0.0,>=4.42.1 in /usr/local/lib/python3.6/dist-packages (from pyppeteer>=0.0.14->requests-html<0.11.0,>=0.10.0->facebook_scraper) (4.48.2)\n",
            "Requirement already satisfied: pyee<8.0.0,>=7.0.1 in /usr/local/lib/python3.6/dist-packages (from pyppeteer>=0.0.14->requests-html<0.11.0,>=0.10.0->facebook_scraper) (7.0.3)\n",
            "Requirement already satisfied: lxml>=2.1 in /usr/local/lib/python3.6/dist-packages (from pyquery->requests-html<0.11.0,>=0.10.0->facebook_scraper) (4.2.6)\n",
            "Requirement already satisfied: cssselect>0.7.9 in /usr/local/lib/python3.6/dist-packages (from pyquery->requests-html<0.11.0,>=0.10.0->facebook_scraper) (1.1.0)\n",
            "fatal: destination path 'ml2en' already exists and is not an empty directory.\n"
          ],
          "name": "stdout"
        }
      ]
    },
    {
      "cell_type": "code",
      "metadata": {
        "id": "gObBvscSxx23",
        "colab_type": "code",
        "colab": {}
      },
      "source": [
        "from facebook_scraper import get_posts\n",
        "import pandas as pd\n",
        "import re\n",
        "import ml2en.ml2en as mal\n",
        "x=get_posts('keralatv',pages=200)\n",
        "t=[]\n",
        "w2=[]\n",
        "for i in x:\n",
        "  t1=i['text']\n",
        "  w1.append(t1.split('\\n'))\n",
        "  for comment in w1:\n",
        "    if len(comment)>0:\n",
        "      for sentence in comment:\n",
        "        if len(re.findall('\\d$',sentence))>0:\n",
        "          if not (re.search('https://',sentence)):\n",
        "            if not (re.search('#onam2020',sentence)):\n",
        "              sentence=mal.ml2en.transliterate(sentence)#Convert to english\n",
        "              t.append(sentence)\n",
        "              w2.append(i['time'])\n",
        "mal_ratings={'TimeStamp':w2,'Ratings':t}\n",
        "#DataTable\n",
        "data=pd.DataFrame(mal_ratings)\n",
        "data.to_csv('Malayalam_Ratings.csv')"
      ],
      "execution_count": 121,
      "outputs": []
    },
    {
      "cell_type": "code",
      "metadata": {
        "id": "RMPsQq_X45Am",
        "colab_type": "code",
        "colab": {
          "base_uri": "https://localhost:8080/",
          "height": 419
        },
        "outputId": "57f040bd-2d06-433c-f9a7-e75e5269c4a9"
      },
      "source": [
        "data"
      ],
      "execution_count": 120,
      "outputs": [
        {
          "output_type": "execute_result",
          "data": {
            "text/html": [
              "<div>\n",
              "<style scoped>\n",
              "    .dataframe tbody tr th:only-of-type {\n",
              "        vertical-align: middle;\n",
              "    }\n",
              "\n",
              "    .dataframe tbody tr th {\n",
              "        vertical-align: top;\n",
              "    }\n",
              "\n",
              "    .dataframe thead th {\n",
              "        text-align: right;\n",
              "    }\n",
              "</style>\n",
              "<table border=\"1\" class=\"dataframe\">\n",
              "  <thead>\n",
              "    <tr style=\"text-align: right;\">\n",
              "      <th></th>\n",
              "      <th>TimeStamp</th>\n",
              "      <th>Ratings</th>\n",
              "    </tr>\n",
              "  </thead>\n",
              "  <tbody>\n",
              "    <tr>\n",
              "      <th>0</th>\n",
              "      <td>2020-09-07 03:26:10</td>\n",
              "      <td>09.00am baahubali 2</td>\n",
              "    </tr>\n",
              "    <tr>\n",
              "      <th>1</th>\n",
              "      <td>2020-09-07 03:26:10</td>\n",
              "      <td>03.00pm ninnishtam ennishtam 2</td>\n",
              "    </tr>\n",
              "    <tr>\n",
              "      <th>2</th>\n",
              "      <td>2020-09-07 03:26:10</td>\n",
              "      <td>03.00 p.M - ninnishtam ennishtam 2</td>\n",
              "    </tr>\n",
              "    <tr>\n",
              "      <th>3</th>\n",
              "      <td>2020-09-07 03:26:10</td>\n",
              "      <td>12.00 n.N - honeybee 2.5</td>\n",
              "    </tr>\n",
              "    <tr>\n",
              "      <th>4</th>\n",
              "      <td>2020-09-07 03:26:10</td>\n",
              "      <td>01.00pm sandakkozhi 2</td>\n",
              "    </tr>\n",
              "    <tr>\n",
              "      <th>...</th>\n",
              "      <td>...</td>\n",
              "      <td>...</td>\n",
              "    </tr>\n",
              "    <tr>\n",
              "      <th>64312</th>\n",
              "      <td>2020-09-04 08:08:21</td>\n",
              "      <td>09.00am baahubali 2</td>\n",
              "    </tr>\n",
              "    <tr>\n",
              "      <th>64313</th>\n",
              "      <td>2020-09-04 08:08:21</td>\n",
              "      <td>03.00pm ninnishtam ennishtam 2</td>\n",
              "    </tr>\n",
              "    <tr>\n",
              "      <th>64314</th>\n",
              "      <td>2020-09-04 08:08:21</td>\n",
              "      <td>03.00 p.M - ninnishtam ennishtam 2</td>\n",
              "    </tr>\n",
              "    <tr>\n",
              "      <th>64315</th>\n",
              "      <td>2020-09-04 08:08:21</td>\n",
              "      <td>12.00 n.N - honeybee 2.5</td>\n",
              "    </tr>\n",
              "    <tr>\n",
              "      <th>64316</th>\n",
              "      <td>2020-09-04 08:08:21</td>\n",
              "      <td>01.00pm sandakkozhi 2</td>\n",
              "    </tr>\n",
              "  </tbody>\n",
              "</table>\n",
              "<p>64317 rows × 2 columns</p>\n",
              "</div>"
            ],
            "text/plain": [
              "                TimeStamp                             Ratings\n",
              "0     2020-09-07 03:26:10                 09.00am baahubali 2\n",
              "1     2020-09-07 03:26:10      03.00pm ninnishtam ennishtam 2\n",
              "2     2020-09-07 03:26:10  03.00 p.M - ninnishtam ennishtam 2\n",
              "3     2020-09-07 03:26:10            12.00 n.N - honeybee 2.5\n",
              "4     2020-09-07 03:26:10               01.00pm sandakkozhi 2\n",
              "...                   ...                                 ...\n",
              "64312 2020-09-04 08:08:21                 09.00am baahubali 2\n",
              "64313 2020-09-04 08:08:21      03.00pm ninnishtam ennishtam 2\n",
              "64314 2020-09-04 08:08:21  03.00 p.M - ninnishtam ennishtam 2\n",
              "64315 2020-09-04 08:08:21            12.00 n.N - honeybee 2.5\n",
              "64316 2020-09-04 08:08:21               01.00pm sandakkozhi 2\n",
              "\n",
              "[64317 rows x 2 columns]"
            ]
          },
          "metadata": {
            "tags": []
          },
          "execution_count": 120
        }
      ]
    }
  ]
}
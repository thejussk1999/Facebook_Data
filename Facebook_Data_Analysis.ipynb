{
  "nbformat": 4,
  "nbformat_minor": 0,
  "metadata": {
    "colab": {
      "name": "Facebook Data Analysis.ipynb",
      "provenance": [],
      "authorship_tag": "ABX9TyMqpTp0zIuDaIbvBrgiwMRI",
      "include_colab_link": true
    },
    "kernelspec": {
      "name": "python3",
      "display_name": "Python 3"
    }
  },
  "cells": [
    {
      "cell_type": "markdown",
      "metadata": {
        "id": "view-in-github",
        "colab_type": "text"
      },
      "source": [
        "<a href=\"https://colab.research.google.com/github/thejussk1999/Facebook_Data/blob/master/Facebook_Data_Analysis.ipynb\" target=\"_parent\"><img src=\"https://colab.research.google.com/assets/colab-badge.svg\" alt=\"Open In Colab\"/></a>"
      ]
    },
    {
      "cell_type": "markdown",
      "metadata": {
        "id": "1FYmzxeuOWkN",
        "colab_type": "text"
      },
      "source": [
        "\n",
        "Using the facebook_scraper library the get_posts function is imported. \n",
        "The git clone is used to import a user defined library created.\n",
        "\n",
        "\n"
      ]
    },
    {
      "cell_type": "code",
      "metadata": {
        "id": "LjfyJiuSs9Y2",
        "colab_type": "code",
        "colab": {}
      },
      "source": [
        "from facebook_scraper import get_posts\n",
        "!git clone 'https://github.com/knadh/ml2en.git'"
      ],
      "execution_count": null,
      "outputs": []
    },
    {
      "cell_type": "code",
      "metadata": {
        "id": "2di8ypqztBVS",
        "colab_type": "code",
        "colab": {}
      },
      "source": [
        "x=get_posts('keralatv',pages=250)#Retrieve posts\n",
        "import datetime\n",
        "import calendar\n",
        "mal_ratings={}\n",
        "timings=[]\n",
        "ratings=[]\n",
        "for i in x:\n",
        "  t1=i['time']#The timing for each rating published is taken\n",
        "  t2=calendar.day_name[t1.weekday()]#Converting to a weekday\n",
        "  b=re.findall('\\d$',i['text'])#Find the rating\n",
        "  if len(b)!=0 and b[0].isnumeric():\n",
        "    timings.append(t1)\n",
        "    tex=ml2en.ml2en.transliterate(i['text'])#Convert to english\n",
        "    ratings.append(tex)"
      ],
      "execution_count": 316,
      "outputs": []
    },
    {
      "cell_type": "markdown",
      "metadata": {
        "id": "13bUXJxoRaNl",
        "colab_type": "text"
      },
      "source": [
        "Converting to Data Frame"
      ]
    },
    {
      "cell_type": "code",
      "metadata": {
        "id": "30Aiq0PTs5CC",
        "colab_type": "code",
        "colab": {
          "base_uri": "https://localhost:8080/",
          "height": 419
        },
        "outputId": "c47fcb3e-c363-407e-ceaa-f6d41c989ec7"
      },
      "source": [
        "import pandas as pd\n",
        "mal_ratings={'Time_Result':timings,'Ratings':ratings}\n",
        "data=pd.DataFrame(mal_ratings)"
      ],
      "execution_count": 318,
      "outputs": [
        {
          "output_type": "execute_result",
          "data": {
            "text/html": [
              "<div>\n",
              "<style scoped>\n",
              "    .dataframe tbody tr th:only-of-type {\n",
              "        vertical-align: middle;\n",
              "    }\n",
              "\n",
              "    .dataframe tbody tr th {\n",
              "        vertical-align: top;\n",
              "    }\n",
              "\n",
              "    .dataframe thead th {\n",
              "        text-align: right;\n",
              "    }\n",
              "</style>\n",
              "<table border=\"1\" class=\"dataframe\">\n",
              "  <thead>\n",
              "    <tr style=\"text-align: right;\">\n",
              "      <th></th>\n",
              "      <th>Time_Result</th>\n",
              "      <th>Ratings</th>\n",
              "    </tr>\n",
              "  </thead>\n",
              "  <tbody>\n",
              "    <tr>\n",
              "      <th>0</th>\n",
              "      <td>2020-09-03 12:18:12</td>\n",
              "      <td>Utan panam mazhavillinte rettimgu kimgu 🔥\\n\\nt...</td>\n",
              "    </tr>\n",
              "    <tr>\n",
              "      <th>1</th>\n",
              "      <td>2020-09-03 12:13:29</td>\n",
              "      <td>Laalonam nallonam pradhaana sampreshanatthinu ...</td>\n",
              "    </tr>\n",
              "    <tr>\n",
              "      <th>2</th>\n",
              "      <td>2020-09-03 10:58:28</td>\n",
              "      <td>Eshyaanettu chithrangalute prakatanam\\n\\n🌼taak...</td>\n",
              "    </tr>\n",
              "    <tr>\n",
              "      <th>3</th>\n",
              "      <td>2020-09-03 10:49:04</td>\n",
              "      <td>Eshyaanettu plasu paripaatikalute prakatanam\\n...</td>\n",
              "    </tr>\n",
              "    <tr>\n",
              "      <th>4</th>\n",
              "      <td>2020-09-03 10:24:43</td>\n",
              "      <td>Mazhavil chithrangalute prakatanam\\n\\n🌼etakkaa...</td>\n",
              "    </tr>\n",
              "    <tr>\n",
              "      <th>...</th>\n",
              "      <td>...</td>\n",
              "      <td>...</td>\n",
              "    </tr>\n",
              "    <tr>\n",
              "      <th>65</th>\n",
              "      <td>2019-09-26 09:27:22</td>\n",
              "      <td>#flowers #trp - http://bit.Ly/2kdl5f3\\n\\naraya...</td>\n",
              "    </tr>\n",
              "    <tr>\n",
              "      <th>66</th>\n",
              "      <td>2019-09-26 09:24:15</td>\n",
              "      <td>#asianet #trp #serials http://bit.Ly/2kxxlgl\\n...</td>\n",
              "    </tr>\n",
              "    <tr>\n",
              "      <th>67</th>\n",
              "      <td>2019-09-26 07:11:14</td>\n",
              "      <td>Mazhavil manorama rettimgu 👇\\n\\nmanjil virinja...</td>\n",
              "    </tr>\n",
              "    <tr>\n",
              "      <th>68</th>\n",
              "      <td>2019-09-19 09:51:34</td>\n",
              "      <td>Di grettu onam graant\u0001aa!!!\\n\\nkutumba preksha...</td>\n",
              "    </tr>\n",
              "    <tr>\n",
              "      <th>69</th>\n",
              "      <td>2019-09-12 07:24:48</td>\n",
              "      <td>Vanambadi 16.9\\nneelakuil. 14.1\\nseetha kalyan...</td>\n",
              "    </tr>\n",
              "  </tbody>\n",
              "</table>\n",
              "<p>70 rows × 2 columns</p>\n",
              "</div>"
            ],
            "text/plain": [
              "           Time_Result                                            Ratings\n",
              "0  2020-09-03 12:18:12  Utan panam mazhavillinte rettimgu kimgu 🔥\\n\\nt...\n",
              "1  2020-09-03 12:13:29  Laalonam nallonam pradhaana sampreshanatthinu ...\n",
              "2  2020-09-03 10:58:28  Eshyaanettu chithrangalute prakatanam\\n\\n🌼taak...\n",
              "3  2020-09-03 10:49:04  Eshyaanettu plasu paripaatikalute prakatanam\\n...\n",
              "4  2020-09-03 10:24:43  Mazhavil chithrangalute prakatanam\\n\\n🌼etakkaa...\n",
              "..                 ...                                                ...\n",
              "65 2019-09-26 09:27:22  #flowers #trp - http://bit.Ly/2kdl5f3\\n\\naraya...\n",
              "66 2019-09-26 09:24:15  #asianet #trp #serials http://bit.Ly/2kxxlgl\\n...\n",
              "67 2019-09-26 07:11:14  Mazhavil manorama rettimgu 👇\\n\\nmanjil virinja...\n",
              "68 2019-09-19 09:51:34  Di grettu onam graant\u0001aa!!!\\n\\nkutumba preksha...\n",
              "69 2019-09-12 07:24:48  Vanambadi 16.9\\nneelakuil. 14.1\\nseetha kalyan...\n",
              "\n",
              "[70 rows x 2 columns]"
            ]
          },
          "metadata": {
            "tags": []
          },
          "execution_count": 318
        }
      ]
    },
    {
      "cell_type": "markdown",
      "metadata": {
        "id": "BDrIXJW1RkO8",
        "colab_type": "text"
      },
      "source": [
        "Converting to csv format"
      ]
    },
    {
      "cell_type": "code",
      "metadata": {
        "id": "XnAajNSTNbBJ",
        "colab_type": "code",
        "colab": {}
      },
      "source": [
        "data.to_csv(r'E:\\Ratings.csv',index=False)"
      ],
      "execution_count": 324,
      "outputs": []
    }
  ]
}